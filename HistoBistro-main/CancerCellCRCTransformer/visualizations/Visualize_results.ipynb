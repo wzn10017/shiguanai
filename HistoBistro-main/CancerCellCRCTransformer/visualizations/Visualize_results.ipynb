{
 "cells": [
  {
   "cell_type": "code",
   "execution_count": null,
   "id": "f149ef49-3363-49ec-b886-efdedc417e2f",
   "metadata": {},
   "outputs": [],
   "source": [
    "%matplotlib inline\n",
    "import matplotlib.pyplot as plt\n",
    "from pathlib import Path\n",
    "import numpy as np\n",
    "import pandas as pd"
   ]
  },
  {
   "attachments": {},
   "cell_type": "markdown",
   "id": "53937a8c",
   "metadata": {},
   "source": [
    "# Visualizations for the publication on CRC biomarker prediction with Transformer\n",
    "\n",
    "1. Code to plot the AUROC heatmaps \n",
    "2. Data overview plots"
   ]
  },
  {
   "attachments": {},
   "cell_type": "markdown",
   "id": "63ef298b-5e51-49c8-98b6-f0b820cc578f",
   "metadata": {
    "tags": []
   },
   "source": [
    "## AUROC heatmaps\n",
    "\n",
    "### Load data from result excel-file into dataframes"
   ]
  },
  {
   "cell_type": "code",
   "execution_count": null,
   "id": "a6eb75f3",
   "metadata": {},
   "outputs": [],
   "source": [
    "# path to save the figures\n",
    "figure_path = Path('figures')"
   ]
  },
  {
   "cell_type": "code",
   "execution_count": null,
   "id": "3a9f7128-b02a-45d6-9382-a410cd656483",
   "metadata": {},
   "outputs": [],
   "source": [
    "# identify runs\n",
    "norm = 'histaugan'\n",
    "target = 'isMSIH'\n",
    "sheet_name = 'MSI high (single cohorts)'\n",
    "# sheet_name = 'BRAF (single cohorts)'\n",
    "# sheet_name = 'KRAS (single cohorts)'\n",
    "# sheet_name = 'MSI high (AttentionMIL)'\n",
    "# sheet_name = 'MSI high (Echle et al.)'\n",
    "\n",
    "results = Path('experimental_results.xlsx')\n",
    "results = pd.read_excel(results, sheet_name=sheet_name)\n",
    "\n",
    "# choose training cohorts (automatically or manually)\n",
    "# cohorts = results['Test'].unique().tolist()  # infer from dataframe\n",
    "cohorts = ['CPTAC', 'DACHS', 'DUSSEL', 'Epi700', 'ERLANGEN', 'FOXTROT', 'MCO', 'MECC', 'MUNICH', 'QUASAR', 'RAINBOW', 'TCGA', 'TRANSCOT', 'YCR-BCIP-resections']  # MSI-H cohorts\n",
    "# cohorts = ['DACHS', 'Epi700', 'MCO', 'QUASAR', 'RAINBOW', 'TCGA']  # BRAF/KRAS cohorts\n",
    "print(cohorts)"
   ]
  },
  {
   "cell_type": "code",
   "execution_count": null,
   "id": "7be79b60",
   "metadata": {},
   "outputs": [],
   "source": [
    "for k in results.keys():\n",
    "    if k not in ['Train', 'Test', 'auroc/test mean']:\n",
    "        results = results.drop(columns=[k])"
   ]
  },
  {
   "cell_type": "code",
   "execution_count": null,
   "id": "29c2a02b",
   "metadata": {},
   "outputs": [],
   "source": [
    "results"
   ]
  },
  {
   "cell_type": "code",
   "execution_count": null,
   "id": "45e9374d",
   "metadata": {},
   "outputs": [],
   "source": [
    "# data stats\n",
    "cohort_size = {\n",
    "    'CHINA': 35,\n",
    "    'CPTAC': 105,\n",
    "    'DACHS': 2039,\n",
    "    'DUSSEL': 196,\n",
    "    'Epi700': 603, \n",
    "    'ERLANGEN': 458,\n",
    "    'FOXTROT': 702,\n",
    "    'MAINZ': 86,\n",
    "    'MCO': 1388, \n",
    "    'MECC': 683, \n",
    "    'MUNICH': 287, \n",
    "    'QUASAR': 1774,\n",
    "    'RAINBOW': 2068, \n",
    "    'TCGA': 426, \n",
    "    'TRANSCOT': 1972, \n",
    "    'YCR-BCIP-resections': 867\n",
    "}\n",
    "\n",
    "cohort_label = {\n",
    "    'CHINA': 'GUANGZHOU',\n",
    "    'CPTAC': 'CPTAC',\n",
    "    'DACHS': 'DACHS',\n",
    "    'DUSSEL': 'DUSSEL',\n",
    "    'Epi700': 'Epi700', \n",
    "    'ERLANGEN': 'ERLANGEN',\n",
    "    'FOXTROT': 'FOXTROT',\n",
    "    'MAINZ': 'MAINZ',\n",
    "    'MCO': 'MCO', \n",
    "    'MECC': 'MECC', \n",
    "    'MUNICH': 'MUNICH', \n",
    "    'QUASAR': 'QUASAR',\n",
    "    'RAINBOW': 'NLCS', \n",
    "    'TCGA': 'TCGA', \n",
    "    'TRANSCOT': 'TRANSCOT', \n",
    "    'YCR-BCIP-resections': 'YCR-BCIP',\n",
    "}"
   ]
  },
  {
   "cell_type": "code",
   "execution_count": null,
   "id": "2c8c47b8",
   "metadata": {},
   "outputs": [],
   "source": [
    "# sort cohorts by size\n",
    "cohorts_ordered = sorted(cohorts, key=lambda x: cohort_size[x], reverse=True)\n",
    "size_ordered = [cohort_size[c] for c in cohorts_ordered]\n",
    "label_ordered = [cohort_label[c] for c in cohorts_ordered]"
   ]
  },
  {
   "attachments": {},
   "cell_type": "markdown",
   "id": "58646f16",
   "metadata": {},
   "source": [
    "### Plot heatmaps\n",
    "\n",
    "Plot large heatmaps with number of samples per cohort"
   ]
  },
  {
   "cell_type": "code",
   "execution_count": null,
   "id": "e6cca4e6",
   "metadata": {},
   "outputs": [],
   "source": [
    "%%capture\n",
    "# create heatmap with metric values\n",
    "heatmap = np.zeros((len(cohorts_ordered), len(cohorts_ordered)))\n",
    "for i, c_i in enumerate(cohorts_ordered):\n",
    "    for j, c_j in enumerate(cohorts_ordered):\n",
    "        try: \n",
    "            heatmap[j, i] = results[results['Train'] == c_i][results['Test'] == c_j]['auroc/test mean'].values[0]\n",
    "        except IndexError:\n",
    "            continue"
   ]
  },
  {
   "cell_type": "code",
   "execution_count": null,
   "id": "13001676",
   "metadata": {},
   "outputs": [],
   "source": [
    "name = sheet_name\n",
    "labels = False  # show labels in heatmap\n",
    "\n",
    "fig, ax = plt.subplots(nrows=1, ncols=2, figsize=((6/5)*5, 5), gridspec_kw={'width_ratios': [5, 1], 'wspace':0, 'hspace':0}) # figsize=(7, 5) 'width_ratios': [6, 1]\n",
    "im = ax[0].imshow(heatmap.T, vmin=0.55, vmax=1, cmap='plasma')\n",
    "\n",
    "if labels:\n",
    "    # Loop over data dimensions and create text annotations.\n",
    "    for i in range(len(cohorts_ordered)):\n",
    "        for j in range(len(cohorts_ordered)):\n",
    "            text = ax[0].text(j, i, f'{heatmap.T[i][j]:.2f}',\n",
    "                        ha=\"center\", va=\"center\", color=\"w\", fontsize=14)\n",
    "\n",
    "ax[0].set_xticks(np.arange(len(label_ordered)), labels=label_ordered)\n",
    "ax[0].set_yticks(np.arange(len(label_ordered)), labels=label_ordered)\n",
    "\n",
    "plt.setp(ax[0].get_xticklabels(), rotation=45, ha=\"right\",\n",
    "         rotation_mode=\"anchor\")\n",
    "\n",
    "fig.tight_layout()\n",
    "\n",
    "# ax[0].set(\n",
    "#     title=f\"AUROC scores (target: {target})\",\n",
    "# )\n",
    "ax[0].spines['top'].set_visible(False)\n",
    "ax[0].spines['right'].set_visible(False)\n",
    "ax[0].spines['left'].set_visible(False)\n",
    "ax[0].spines['bottom'].set_visible(False)\n",
    "\n",
    "ax[0].set_ylabel('Train')\n",
    "ax[0].set_xlabel('Test')\n",
    "\n",
    "# plot bar plot\n",
    "ax[1].barh(range(len(size_ordered), 0, -1), size_ordered, color='slategray')\n",
    "\n",
    "ax[1].axes.get_yaxis().set_visible(False)\n",
    "ax[1].set_xticks((0, 1000, 2000))\n",
    "plt.setp(ax[1].get_xticklabels(), rotation=45, ha=\"right\",\n",
    "         rotation_mode=\"anchor\")\n",
    "ax[1].spines['top'].set_visible(False)\n",
    "ax[1].spines['right'].set_visible(False)\n",
    "ax[1].set(\n",
    "    ylim=[0.5, len(size_ordered) + 0.5],\n",
    ")\n",
    "ax[1].set_xlabel('Counts')\n",
    "\n",
    "# fig.savefig(figure_path / f'results_heatmap_{name}_new_cohorts.svg', format='svg', bbox_inches = 'tight', pad_inches = 0)\n",
    "plt.show()"
   ]
  },
  {
   "attachments": {},
   "cell_type": "markdown",
   "id": "f07e3734",
   "metadata": {},
   "source": [
    "Plot smaller heatmaps for comparison with other methods"
   ]
  },
  {
   "cell_type": "code",
   "execution_count": null,
   "id": "54301ac3",
   "metadata": {},
   "outputs": [],
   "source": [
    "cohorts = ['RAINBOW', 'DACHS', 'QUASAR', 'TCGA']\n",
    "\n",
    "# sort cohorts by size\n",
    "cohorts_ordered = sorted(cohorts, key=lambda x: cohort_size[x], reverse=True)\n",
    "size_ordered = [cohort_size[c] for c in cohorts_ordered]\n",
    "label_ordered = [cohort_label[c] for c in cohorts_ordered]"
   ]
  },
  {
   "cell_type": "code",
   "execution_count": null,
   "id": "8b1c8652",
   "metadata": {},
   "outputs": [],
   "source": [
    "%%capture\n",
    "heatmap = np.zeros((len(cohorts_ordered), len(cohorts_ordered)))\n",
    "for i, c_i in enumerate(cohorts_ordered):\n",
    "    for j, c_j in enumerate(cohorts_ordered):\n",
    "        try: \n",
    "            heatmap[j, i] = results[results['Train'] == c_i][results['Test'] == c_j]['auroc/test mean'].values[0]\n",
    "        except IndexError:\n",
    "            continue"
   ]
  },
  {
   "cell_type": "code",
   "execution_count": null,
   "id": "6f2e58c9",
   "metadata": {},
   "outputs": [],
   "source": [
    "model = 'echle'\n",
    "name = 'histaugan'\n",
    "\n",
    "fig, ax = plt.subplots(figsize=(1.875, 1.875))\n",
    "im = ax.imshow(heatmap.T, vmin=0.55, vmax=1, cmap='plasma')\n",
    "\n",
    "labels = heatmap.T\n",
    "# Loop over data dimensions and create text annotations.\n",
    "for i in range(len(cohorts)):\n",
    "    for j in range(len(cohorts)):\n",
    "        text = ax.text(j, i, f'{labels[i][j]:.2f}',\n",
    "                       ha=\"center\", va=\"center\", color=\"w\", fontsize=10)\n",
    "        \n",
    "\n",
    "ax.set_xticks(np.arange(len(cohorts)), labels=label_ordered)\n",
    "ax.set_yticks(np.arange(len(cohorts)), labels=label_ordered)\n",
    "\n",
    "ax.spines['top'].set_visible(False)\n",
    "ax.spines['right'].set_visible(False)\n",
    "ax.spines['left'].set_visible(False)\n",
    "ax.spines['bottom'].set_visible(False)\n",
    "\n",
    "# ax.set_xlabel('Train')\n",
    "# ax.set_ylabel('Transformer')\n",
    "\n",
    "ax.axes.get_xaxis().set_visible(True)\n",
    "\n",
    "        \n",
    "plt.setp(ax.get_xticklabels(), rotation=45, ha=\"right\",\n",
    "         rotation_mode=\"anchor\")\n",
    "# fig.savefig(figure_path / f'results_{model}_{name}_zoom.svg', format='svg', bbox_inches = 'tight', pad_inches = 0)\n",
    "\n",
    "plt.show()"
   ]
  },
  {
   "attachments": {},
   "cell_type": "markdown",
   "id": "ec5c4250-669e-469b-bd85-a7bbdbe1979e",
   "metadata": {},
   "source": [
    "## Donut plots for cohort overview"
   ]
  },
  {
   "cell_type": "code",
   "execution_count": null,
   "id": "0ed4058b",
   "metadata": {},
   "outputs": [],
   "source": [
    "# all cohorts\n",
    "cohorts_all = ['CPTAC', 'DACHS', 'DUSSEL', 'ERLANGEN', 'Epi700', 'FOXTROT', 'CHINA', 'MAINZ', 'MCO', 'MECC', 'MUNICH', 'RAINBOW', 'QUASAR', 'TCGA', 'TRANSCOT', 'YCR-BCIP-resections']"
   ]
  },
  {
   "cell_type": "code",
   "execution_count": null,
   "id": "7c630756-f70a-4bbd-8f06-44c9027845be",
   "metadata": {},
   "outputs": [],
   "source": [
    "# --- MSI cohorts\n",
    "# target = 'MSI'\n",
    "# cohorts = ['CPTAC', 'DACHS', 'DUSSEL', 'ERLANGEN', 'Epi700', 'FOXTROT', 'CHINA', 'MAINZ', 'MCO', 'MECC', 'MUNICH', 'RAINBOW', 'QUASAR', 'TCGA', 'TRANSCOT', 'YCR-BCIP-resections']\n",
    "\n",
    "# --- BRAF/KRAS cohorts\n",
    "# target = 'BRAF'\n",
    "target = 'KRAS'\n",
    "cohorts = ['DACHS',  'Epi700', 'MCO',  'QUASAR', 'RAINBOW', 'TCGA', ]"
   ]
  },
  {
   "cell_type": "code",
   "execution_count": null,
   "id": "3231e8a0",
   "metadata": {},
   "outputs": [],
   "source": [
    "# --- MSI cohorts\n",
    "# cohort_size = {\n",
    "#     'CHINA': 35,\n",
    "#     'CPTAC': 105,\n",
    "#     'DACHS': 2039,\n",
    "#     'DUSSEL': 196,\n",
    "#     'Epi700': 603, \n",
    "#     'ERLANGEN': 458,\n",
    "#     'FOXTROT': 702,\n",
    "#     'MAINZ': 86,\n",
    "#     'MCO': 1388, \n",
    "#     'MECC': 683, \n",
    "#     'MUNICH': 287, \n",
    "#     'QUASAR': 1774,\n",
    "#     'RAINBOW': 2068, \n",
    "#     'TCGA': 426, \n",
    "#     'TRANSCOT': 1972, \n",
    "#     'YCR-BCIP-resections': 867\n",
    "# }\n",
    "\n",
    "# --- BRAF cohorts\n",
    "cohort_size = {\n",
    "    'DACHS': 2075,\n",
    "    'Epi700': 641, \n",
    "    'MCO': 1388, \n",
    "    'QUASAR': 1477,\n",
    "    'RAINBOW': 2038, \n",
    "    'TCGA': 500, \n",
    "}\n",
    "\n",
    "# --- KRAS cohorts\n",
    "# cohort_size = {\n",
    "#     'DACHS': 2068,\n",
    "#     'Epi700': 645, \n",
    "#     'MCO': 1390, \n",
    "#     'QUASAR': 1436,\n",
    "#     'RAINBOW': 2033, \n",
    "#     'TCGA': 500, \n",
    "# }"
   ]
  },
  {
   "cell_type": "code",
   "execution_count": null,
   "id": "7aad496c",
   "metadata": {},
   "outputs": [],
   "source": [
    "sum(cohort_size.values())"
   ]
  },
  {
   "cell_type": "code",
   "execution_count": null,
   "id": "f30eda50",
   "metadata": {},
   "outputs": [],
   "source": [
    "cohorts_ordered = sorted(cohorts, key=lambda x: cohort_label[x])\n",
    "size_ordered = [cohort_size[c] for c in cohorts_ordered]\n",
    "label_ordered = [cohort_label[c] for c in cohorts_ordered]\n",
    "cohort_ids = [cohorts_all.index(c) for c in cohorts_ordered]\n",
    "print(f'{len(cohorts)} cohorts with {sum(cohort_size.values())} patients')\n",
    "print(label_ordered)\n",
    "print(size_ordered)"
   ]
  },
  {
   "cell_type": "code",
   "execution_count": null,
   "id": "7b9b6274-cc57-4ddb-a1b9-408b3224e1be",
   "metadata": {},
   "outputs": [],
   "source": [
    "# plot donut chart\n",
    "fig, ax = plt.subplots(figsize=(6, 6), subplot_kw=dict(aspect=\"equal\"))\n",
    "\n",
    "cmap = plt.get_cmap(\"twilight\")\n",
    "r = np.array(cohort_ids) / len(cohorts_all)\n",
    "colors = cmap(r)\n",
    "\n",
    "wedges, texts = ax.pie(size_ordered, wedgeprops=dict(width=0.5, linewidth=2, edgecolor='w'), startangle=90, colors=colors)\n",
    "\n",
    "plt.legend(label_ordered, bbox_to_anchor=(1.35, 0.5), loc='right', fontsize=16)\n",
    "\n",
    "# plt.savefig(figure_path / f\"num_patients_{target}.svg\", format='svg', bbox_inches = 'tight', pad_inches = 0)\n",
    "plt.show()"
   ]
  }
 ],
 "metadata": {
  "kernelspec": {
   "display_name": "idkidc",
   "language": "python",
   "name": "python3"
  },
  "language_info": {
   "codemirror_mode": {
    "name": "ipython",
    "version": 3
   },
   "file_extension": ".py",
   "mimetype": "text/x-python",
   "name": "python",
   "nbconvert_exporter": "python",
   "pygments_lexer": "ipython3",
   "version": "3.10.12"
  }
 },
 "nbformat": 4,
 "nbformat_minor": 5
}
